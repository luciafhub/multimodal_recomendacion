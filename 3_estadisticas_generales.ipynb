{
  "nbformat": 4,
  "nbformat_minor": 0,
  "metadata": {
    "colab": {
      "provenance": []
    },
    "kernelspec": {
      "name": "python3",
      "display_name": "Python 3"
    },
    "language_info": {
      "name": "python"
    }
  },
  "cells": [
    {
      "cell_type": "markdown",
      "source": [
        "# Análisis Exploratorio de Reseñas de Restaurantes\n",
        "\n",
        "Autora: Lucía Fernández Rodríguez\n",
        "\n",
        "*Fecha: 2025*\n",
        "\n",
        "Este notebook realiza un análisis exploratorio de conjunto de datos de reseñas de restaurantes de TripAdvisor. A partir de los archivos .pkl de un subconjunto urbano (como Gijón o Nueva York), se obtienen estadísticas  de un conjunto de reseñas de restaurantes, usuarios e imágenes. Incluye métricas generales, visualizaciones de actividad por usuario y restaurante, y un estudio sobre la presencia y cantidad de imágenes en las reseñas.\n",
        "\n",
        "Este análisis es clave para entender la estructura de los datos antes de diseñar y entrenar un sistema de recomendación basado en texto e imágenes."
      ],
      "metadata": {
        "id": "157krQ8UhUBU"
      }
    },
    {
      "cell_type": "code",
      "source": [
        "# Importación de librerías\n",
        "import pandas as pd\n",
        "import matplotlib.pyplot as plt\n",
        "import seaborn as sns\n",
        "import numpy as np\n",
        "import warnings\n",
        "warnings.filterwarnings(\"ignore\", category=RuntimeWarning)"
      ],
      "metadata": {
        "id": "LWxEqR6RfAX8"
      },
      "execution_count": null,
      "outputs": []
    },
    {
      "cell_type": "markdown",
      "source": [
        "## Selección del dataset de la ciudad"
      ],
      "metadata": {
        "id": "_8B7YsSOfGpb"
      }
    },
    {
      "cell_type": "code",
      "source": [
        "\n",
        "# Selección del subconjunto de ciudad\n",
        "subset_name = \"/kaggle/input/gijon\"\n",
        "# También se puede cambiar a otra ciudad\n",
        "# subset_name = \"/kaggle/input/newyorkcity\"\n",
        "\n",
        "# Carga de datasets principales\n",
        "restau = pd.read_pickle(subset_name + \"/restaurants.pkl\")\n",
        "reviews = pd.read_pickle(subset_name + \"/reviews.pkl\")\n",
        "users = pd.read_pickle(subset_name + \"/users.pkl\")\n"
      ],
      "metadata": {
        "id": "6NDuFdezfMgI"
      },
      "execution_count": null,
      "outputs": []
    },
    {
      "cell_type": "markdown",
      "source": [
        "## Visualización de columnas disponibles"
      ],
      "metadata": {
        "id": "9laHQbJlfQbI"
      }
    },
    {
      "cell_type": "code",
      "execution_count": null,
      "metadata": {
        "id": "gk8YpmOlel71"
      },
      "outputs": [],
      "source": [
        "\n",
        "# Columnas disponibles en los tres archivos pikle\n",
        "print(\"COLUMNAS RESTAURANTE\")\n",
        "print(restau.columns)\n",
        "print(restau.head())\n",
        "\n",
        "print(\"COLUMNAS REVIEWS\")\n",
        "print(reviews.columns)\n",
        "print(reviews.head())\n",
        "\n",
        "print(\"COLUMNAS USUARIO\")\n",
        "print(users.columns)\n",
        "print(users.head())\n"
      ]
    },
    {
      "cell_type": "markdown",
      "source": [
        "## Estadísticas generales"
      ],
      "metadata": {
        "id": "N6kPX8SHfd4B"
      }
    },
    {
      "cell_type": "code",
      "source": [
        "# Datos totales\n",
        "total_reviews = reviews.shape[0]\n",
        "total_restaurants = restau.shape[0]\n",
        "total_users = users.shape[0]\n",
        "\n",
        "print(\"Estadísticas generales:\")\n",
        "print(f\"Total de reseñas: {total_reviews}\")\n",
        "print(f\"Total de restaurantes: {total_restaurants}\")\n",
        "print(f\"Total de usuarios: {total_users}\")\n",
        "\n",
        "# Media de reseñas por usuario\n",
        "reviews_por_usuario = reviews.groupby('userId').size()\n",
        "print(f\"\\nNúmero medio de reseñas por usuario: {reviews_por_usuario.mean():.2f}\")\n",
        "\n",
        "# Media de reseñas por restaurante\n",
        "reviews_por_restaurante = reviews.groupby('restaurantId').size()\n",
        "print(f\"Número medio de reseñas por restaurante: {reviews_por_restaurante.mean():.2f}\")\n",
        "\n",
        "# Estadísticas básicas de imágenes (aunque no se usen para filtrar válidas)\n",
        "if 'images' in reviews.columns:\n",
        "    reviews['num_images'] = reviews['images'].apply(lambda imgs: len(imgs) if isinstance(imgs, list) else 0)\n",
        "    total_images = reviews['num_images'].sum()\n",
        "    print(f\"\\nTotal de imágenes en las reseñas (sin validar): {total_images}\")\n",
        "else:\n",
        "    print(\"\\nNo se encontró la columna 'images' en el dataset.\")"
      ],
      "metadata": {
        "id": "wDhaHjMqfcuM"
      },
      "execution_count": null,
      "outputs": []
    },
    {
      "cell_type": "markdown",
      "source": [
        "## Carga del conjunto con imágenes válidas"
      ],
      "metadata": {
        "id": "yHRPOPa0foKq"
      }
    },
    {
      "cell_type": "code",
      "source": [
        "# Este archivo ya ha sido filtrado para que todas las imágenes existan y sean accesibles\n",
        "df_valid_images = pd.read_pickle(\"/kaggle/working/gijon_emb.pkl\")  # output_pkl del notebook \"generar_embeddings_clip\"\n",
        "\n",
        "print(f\"\\nTotal de reseñas con imágenes válidas: {df_valid_images.shape[0]}\")\n",
        "print(\"Usuarios con reseñas con imágenes válidas:\", df_valid_images['userId'].nunique())\n",
        "print(\"Restaurantes con reseñas con imágenes válidas:\", df_valid_images['restaurantId'].nunique())"
      ],
      "metadata": {
        "id": "mNFZ53OxfokW"
      },
      "execution_count": null,
      "outputs": []
    },
    {
      "cell_type": "markdown",
      "source": [
        "# Gráficos para ver estadísticas"
      ],
      "metadata": {
        "id": "zNOstcyWgIkD"
      }
    },
    {
      "cell_type": "code",
      "source": [
        "# Histograma: número de reseñas por usuario (hasta un máximo de 10)\n",
        "# Este gráfico muestra cuántos usuarios han hecho 1, 2, ..., 10 reseñas.\n",
        "user_review_counts = reviews['userId'].value_counts()\n",
        "plt.figure(figsize=(6, 4))\n",
        "bars = plt.hist(user_review_counts, bins=range(1, 12), color='#4B6C8F', edgecolor='black', rwidth=0.85)\n",
        "plt.xlabel(\"Cantidad de reseñas\", fontsize=11)\n",
        "plt.ylabel(\"Número de usuarios\", fontsize=11)\n",
        "centros = bars[1][:-1] + 0.5\n",
        "plt.xticks(centros, range(1, 11), fontsize=9)\n",
        "plt.yticks(fontsize=9)\n",
        "plt.grid(axis='y', linestyle='--', alpha=0.5)\n",
        "\n",
        "# Anota el número de usuarios en cada barra\n",
        "for i, height in enumerate(bars[0]):\n",
        "    if height > 0:\n",
        "        plt.text(bars[1][i] + 0.5, height + max(bars[0]) * 0.02, str(int(height)), ha='center', fontsize=8,\n",
        "                 bbox=dict(facecolor='white', edgecolor='none', alpha=0.8, pad=1))\n",
        "\n",
        "plt.tight_layout()\n",
        "plt.savefig(\"grafica_top10_resenas_por_usuario.pdf\")\n",
        "plt.show()"
      ],
      "metadata": {
        "id": "lPyUxCKYgN8Q"
      },
      "execution_count": null,
      "outputs": []
    },
    {
      "cell_type": "code",
      "source": [
        "\n",
        "# Histograma: número de reseñas por restaurante (hasta un máximo de 190)\n",
        "# Muestra cuántos restaurantes tienen cierto número de reseñas (filtrando los más extremos)\n",
        "restaurant_review_counts = reviews['restaurantId'].value_counts()\n",
        "filtered_counts = restaurant_review_counts[restaurant_review_counts <= 190]\n",
        "plt.figure(figsize=(8, 4))\n",
        "plt.hist(filtered_counts, bins=range(1, 192), color='#4B6C8F', edgecolor='black', rwidth=0.85)\n",
        "plt.xlabel(\"Cantidad de reseñas\", fontsize=11)\n",
        "plt.ylabel(\"Número de restaurantes\", fontsize=11)\n",
        "plt.grid(axis='y', linestyle='--', alpha=0.5)\n",
        "plt.tight_layout()\n",
        "plt.savefig(\"grafica_restaurantes_reseñas_150.pdf\")\n",
        "plt.show()"
      ],
      "metadata": {
        "id": "tBelbTHMgUAR"
      },
      "execution_count": null,
      "outputs": []
    },
    {
      "cell_type": "code",
      "source": [
        "# Boxplot: distribución de puntuaciones de los 10 usuarios más activos\n",
        "# Permite visualizar cómo puntúan los usuarios que más reseñas han escrito\n",
        "top_10_users = user_review_counts.head(10).index\n",
        "short_ids_10 = {uid: uid[:4] + \"...\" + uid[-4:] for uid in top_10_users}\n",
        "filtered = reviews[reviews['userId'].isin(top_10_users)].copy()\n",
        "filtered['short_userId'] = filtered['userId'].map(short_ids_10)\n",
        "ordered_short_ids = [short_ids_10[uid] for uid in top_10_users]\n",
        "filtered['short_userId'] = pd.Categorical(filtered['short_userId'], categories=ordered_short_ids, ordered=True)\n",
        "\n",
        "plt.figure(figsize=(8, 4))\n",
        "sns.set_style(\"white\")\n",
        "sns.boxplot(\n",
        "    x=\"short_userId\", y=\"rating\", data=filtered, color=\"#4B6C8F\", width=0.4, linewidth=1.2,\n",
        "    boxprops=dict(edgecolor=\"black\"), whiskerprops=dict(color=\"black\"),\n",
        "    capprops=dict(color=\"black\"), medianprops=dict(color=\"black\")\n",
        ")\n",
        "plt.xlabel(\"Usuario (ID abreviado)\", fontsize=11)\n",
        "plt.ylabel(\"Puntuación\", fontsize=11)\n",
        "plt.xticks(fontsize=9, rotation=30)\n",
        "plt.yticks([10, 20, 30, 40, 50], fontsize=9)\n",
        "plt.grid(axis='y', linestyle='--', alpha=0.4)\n",
        "plt.tight_layout()\n",
        "plt.savefig(\"grafica_boxplot_puntuaciones_top10_activos.pdf\")\n",
        "plt.show()"
      ],
      "metadata": {
        "id": "l_oUewwZgYT1"
      },
      "execution_count": null,
      "outputs": []
    },
    {
      "cell_type": "code",
      "source": [
        "print(\"Top 10 usuarios más activos:\")\n",
        "print(user_review_counts.head(10))\n",
        "\n",
        "# Gráfico de pastel: porcentaje de reseñas con y sin imágenes\n",
        "# Muestra de forma visual qué proporción de reseñas incluyen al menos una imagen\n",
        "has_image = reviews['images'].apply(lambda x: isinstance(x, list) and len(x) > 0)\n",
        "image_counts = has_image.value_counts()\n",
        "plt.figure(figsize=(5, 5))\n",
        "plt.pie(image_counts, labels=[\"Con imagen\", \"Sin imagen\"], autopct=\"%1.1f%%\", colors=[\"#4B6C8F\", \"#CCCCCC\"], startangle=90)\n",
        "plt.tight_layout()\n",
        "plt.savefig(\"grafica_porcentaje_imagenes.pdf\")\n",
        "plt.show()"
      ],
      "metadata": {
        "id": "1BV_8Ojmgcfs"
      },
      "execution_count": null,
      "outputs": []
    },
    {
      "cell_type": "code",
      "source": [
        "# Histograma: número de imágenes por reseña\n",
        "# Indica cuántas reseñas contienen 1, 2, 3... imágenes\n",
        "num_images = reviews['images'].apply(lambda x: len(x) if isinstance(x, list) else 0)\n",
        "num_images = num_images.replace([float('inf'), float('-inf')], pd.NA).dropna()\n",
        "max_val = int(num_images.max())\n",
        "bins = np.arange(0, max_val + 2)\n",
        "centros = np.arange(0.5, max_val + 1.5)\n",
        "\n",
        "plt.figure(figsize=(5, 4))\n",
        "sns.set_style(\"white\")\n",
        "bars = plt.hist(num_images, bins=bins, color=\"#4B6C8F\", edgecolor=\"black\", rwidth=0.7)\n",
        "plt.xlabel(\"Cantidad de imágenes\", fontsize=11)\n",
        "plt.ylabel(\"Número de reseñas\", fontsize=11)\n",
        "plt.xticks(ticks=centros, labels=[str(i) for i in range(0, max_val + 1)], fontsize=9)\n",
        "plt.yticks(fontsize=9)\n",
        "plt.grid(axis='y', linestyle='--', alpha=0.4)\n",
        "\n",
        "# Añadir etiquetas con el número de reseñas por barra\n",
        "for i, height in enumerate(bars[0]):\n",
        "    if height > 0:\n",
        "        plt.text(centros[i], height + max(bars[0]) * 0.01, str(int(height)), ha='center', fontsize=8)\n",
        "\n",
        "plt.tight_layout()\n",
        "plt.savefig(\"grafica_hist_imagenes_por_resena_ticks_centrados.pdf\")\n",
        "plt.show()"
      ],
      "metadata": {
        "id": "smv1b0fEggSg"
      },
      "execution_count": null,
      "outputs": []
    }
  ]
}
